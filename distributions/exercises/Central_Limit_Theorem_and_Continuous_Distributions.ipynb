{
  "nbformat": 4,
  "nbformat_minor": 0,
  "metadata": {
    "kernelspec": {
      "display_name": "R",
      "language": "R",
      "name": "ir"
    },
    "language_info": {
      "codemirror_mode": "r",
      "file_extension": ".r",
      "mimetype": "text/x-r-source",
      "name": "R",
      "pygments_lexer": "r",
      "version": "3.3.1"
    },
    "colab": {
      "name": "Central Limit Theorem and Continuous Distributions.ipynb",
      "provenance": [],
      "collapsed_sections": [],
      "include_colab_link": true
    }
  },
  "cells": [
    {
      "cell_type": "markdown",
      "metadata": {
        "id": "view-in-github",
        "colab_type": "text"
      },
      "source": [
        "<a href=\"https://colab.research.google.com/github/btemperton/quantitative_biology_resources/blob/master/distributions/exercises/Central_Limit_Theorem_and_Continuous_Distributions.ipynb\" target=\"_parent\"><img src=\"https://colab.research.google.com/assets/colab-badge.svg\" alt=\"Open In Colab\"/></a>"
      ]
    },
    {
      "cell_type": "code",
      "metadata": {
        "id": "tdqvwVJFsdEU",
        "colab_type": "code",
        "colab": {
          "base_uri": "https://localhost:8080/",
          "height": 187
        },
        "outputId": "26e45837-377f-4a28-8545-1ba061cb696c"
      },
      "source": [
        "#Setup - run this first\n",
        "install.packages('cowplot')\n",
        "library(ggplot2)\n",
        "library(tidyverse)\n",
        "library(cowplot)"
      ],
      "execution_count": 26,
      "outputs": [
        {
          "output_type": "stream",
          "text": [
            "Installing package into ‘/usr/local/lib/R/site-library’\n",
            "(as ‘lib’ is unspecified)\n",
            "\n",
            "********************************************************\n",
            "Note: As of version 1.0.0, cowplot does not change the\n",
            "  default ggplot2 theme anymore. To recover the previous\n",
            "  behavior, execute:\n",
            "  theme_set(theme_cowplot())\n",
            "********************************************************\n",
            "\n"
          ],
          "name": "stderr"
        }
      ]
    },
    {
      "cell_type": "markdown",
      "metadata": {
        "id": "dVm6kROJhFQ4",
        "colab_type": "text"
      },
      "source": [
        "# Exercises for Understanding Continuous Distributions and Central Limit Theorem\n",
        "Here, we will go through some of the R commands you can use to simulate and explore distributions. First up are the commands you need to simulate data from each of the distribution types. In `R`, these are typically called `rxxx`, where `xxx` is the type of distribution for example:\n",
        "\n",
        "* `runif` simulates data from a uniform distribution\n",
        "* `rexp` simulates data from an exponential distribution\n",
        "* `rgamma` simulates data from a gamma distribution\n",
        "* `rnorm` simulates data from a normal distribution\n",
        "\n",
        "Each method takes a parameter to state how many observations we wish to simulate and then a number of other parameters depending on the parameters of the probability density function for that distribution. For example, `rnorm` takes three parameters:\n",
        "\n",
        "1. The number of observations to simulate\n",
        "2. The mean of the observations\n",
        "3. The standard deviation of the observations\n",
        "\n",
        "Let's try it out. Suppose we want to simulate ten observations from a population with a normal distribution, with a mean of 4 and a standard deviation of 2. So that our 'random' numbers are the same each time you run this, we can set a seed value for random number generation using the `set.seed` method. The seed can be any number, but setting it before simulating populations is critical if you want your work to be reproducible by others!"
      ]
    },
    {
      "cell_type": "code",
      "metadata": {
        "id": "cJ0DxYPshFQ5",
        "colab_type": "code",
        "outputId": "0cefd2fd-815b-4c7d-cb1d-47bc872d78f6",
        "colab": {
          "base_uri": "https://localhost:8080/",
          "height": 51
        }
      },
      "source": [
        "set.seed(14)\n",
        "values = rnorm(10, mean=4, sd=2)\n",
        "print(values)"
      ],
      "execution_count": 9,
      "outputs": [
        {
          "output_type": "stream",
          "text": [
            " [1] 2.676300 7.437908 8.243334 6.994307 3.927719 6.463890 3.870238 6.137987\n",
            " [9] 3.246069 6.086366\n"
          ],
          "name": "stdout"
        }
      ]
    },
    {
      "cell_type": "markdown",
      "metadata": {
        "id": "Cor5IIvQi7aC",
        "colab_type": "text"
      },
      "source": [
        "You can see that it has randomly generated 10 real numbers (because the normal distribution is continuous). We can double-check the mean and standard deviation:"
      ]
    },
    {
      "cell_type": "code",
      "metadata": {
        "id": "qfAB10XYhFQ8",
        "colab_type": "code",
        "colab": {
          "base_uri": "https://localhost:8080/",
          "height": 51
        },
        "outputId": "e2818142-bcaa-440a-abb1-4895fad66a22"
      },
      "source": [
        "print(paste('The mean of values is:', mean(values)))\n",
        "print(paste('The standard deviation of values is:', sd(values)))"
      ],
      "execution_count": 10,
      "outputs": [
        {
          "output_type": "stream",
          "text": [
            "[1] \"The mean of values is: 5.50841207034475\"\n",
            "[1] \"The standard deviation of values is: 1.92570992477481\"\n"
          ],
          "name": "stdout"
        }
      ]
    },
    {
      "cell_type": "markdown",
      "metadata": {
        "id": "dnUDul1fhFQ-",
        "colab_type": "text"
      },
      "source": [
        "Well, it looks like our mean of 5.51 is a bit higher than the value of 5 we used to simulate the data. **Why do you think this is?** _(hint, try simulating 100 values below and see what you get)_"
      ]
    },
    {
      "cell_type": "code",
      "metadata": {
        "id": "AHyePE-phFQ_",
        "colab_type": "code",
        "colab": {}
      },
      "source": [
        "# Simulate a normal distribution of 100 values, with a mean of 4\n",
        "# a standard deviation of 2 here, then print the mean and standard deviation\n",
        "# of the simulated data"
      ],
      "execution_count": 0,
      "outputs": []
    },
    {
      "cell_type": "markdown",
      "metadata": {
        "id": "GOAQmMYklYW7",
        "colab_type": "text"
      },
      "source": [
        "# Testing the Central Limit Theorem\n",
        "\n",
        "Here, we are going to simulate a population of 1 million with a uniform distribution going from 1 to 10. We are then going to randomly sample five observations from that population and calculate the mean:"
      ]
    },
    {
      "cell_type": "code",
      "metadata": {
        "id": "E9OwCX1Zl1re",
        "colab_type": "code",
        "colab": {
          "base_uri": "https://localhost:8080/",
          "height": 68
        },
        "outputId": "1fc99a10-b450-4c7c-dda7-08eee64d1fec"
      },
      "source": [
        "#simulate the observations\n",
        "population = runif(1e6, min=1, max=10)\n",
        "\n",
        "#subsample 10 observations\n",
        "subsample = sample(population, size=10, replace=TRUE)\n",
        "print(subsample)\n",
        "print(paste('The mean of this subsample is:', mean(subsample)))"
      ],
      "execution_count": 14,
      "outputs": [
        {
          "output_type": "stream",
          "text": [
            " [1] 9.797611 1.254923 6.376273 2.244952 3.041275 3.456914 7.352730 2.681192\n",
            " [9] 8.132002 6.596608\n",
            "[1] \"The mean of this subsample is: 5.09344799616374\"\n"
          ],
          "name": "stdout"
        }
      ]
    },
    {
      "cell_type": "markdown",
      "metadata": {
        "id": "Mm-Yg4IQm_dP",
        "colab_type": "text"
      },
      "source": [
        "Notice here that we selected `replace=TRUE`. This is known as **sampling with replacement**, i.e. the number is selected from the population, and then placed back in the population so that it might be selected randomly again. The opposite, where `replace=FALSE` means that the number can _only be selected once_. Thus, the first randomly selected observation will be chosen from one million numbers, the second will be chosen from 999,999 numbers etc. When subsampling your data, particularly if you are doing so to infer properties of the whole population, it is important to sample _with replacement_.\n",
        "\n",
        "Now we have one subsample, we can follow a similar pattern to repeat this lots of times with a `for` loop and store these values in a vector. Let's take 100 subsamples, calculate their means and then store the mean in a vector called `subsampled_means`."
      ]
    },
    {
      "cell_type": "code",
      "metadata": {
        "id": "6S2BBM35pPVP",
        "colab_type": "code",
        "colab": {
          "base_uri": "https://localhost:8080/",
          "height": 51
        },
        "outputId": "8c37d008-14d8-48bd-9b87-e5afc22f135e"
      },
      "source": [
        "#set up the storage vector\n",
        "subsampled_means = rep(0, times=100)\n",
        "\n",
        "#Loop through and set the values \n",
        "for (i in 1:length(subsampled_means)){\n",
        "    subsample = sample(population, size=10, replace=TRUE)\n",
        "    subsampled_means[i] = mean(subsample)\n",
        "}\n",
        "\n",
        "print('The first five records of our subsample are:')\n",
        "print(subsampled_means[1:5])"
      ],
      "execution_count": 33,
      "outputs": [
        {
          "output_type": "stream",
          "text": [
            "[1] \"The first five records of our subsample are:\"\n",
            "[1] 4.929482 6.823925 4.167082 6.385861 6.003073\n"
          ],
          "name": "stdout"
        }
      ]
    },
    {
      "cell_type": "markdown",
      "metadata": {
        "id": "daD0ySXZrYzp",
        "colab_type": "text"
      },
      "source": [
        "Now let's plot these values"
      ]
    },
    {
      "cell_type": "code",
      "metadata": {
        "id": "KvH5Pb9WrAFz",
        "colab_type": "code",
        "colab": {
          "base_uri": "https://localhost:8080/",
          "height": 857
        },
        "outputId": "f81e5692-4bd8-4643-de1d-c43b750a5524"
      },
      "source": [
        "ggplot(tibble(x=subsampled_means), aes(x)) +\n",
        "    geom_density(fill='#0072B2') +\n",
        "    theme_minimal_hgrid(12) +\n",
        "    scale_x_continuous(name=\"Subsample Mean\") +\n",
        "    scale_y_continuous(name='Probability Density')"
      ],
      "execution_count": 27,
      "outputs": [
        {
          "output_type": "display_data",
          "data": {
            "image/png": "[encoded data removed]",
            "text/plain": [
              "plot without title"
            ]
          },
          "metadata": {
            "tags": []
          }
        }
      ]
    },
    {
      "cell_type": "markdown",
      "metadata": {
        "id": "yAqMCOJLs0_C",
        "colab_type": "text"
      },
      "source": [
        "Well, it looks a bit wonky for a normal distribution, and the ends are cut off. We can fix the latter problem by using a histogram instead of a density plot:"
      ]
    },
    {
      "cell_type": "code",
      "metadata": {
        "id": "WbFeYvA3rkxf",
        "colab_type": "code",
        "colab": {
          "base_uri": "https://localhost:8080/",
          "height": 857
        },
        "outputId": "d5e63a7e-fd95-4947-f0f4-bce7765ae2c6"
      },
      "source": [
        "ggplot(tibble(x=subsampled_means), aes(x)) +\n",
        "    geom_histogram(fill='#0072B2', bins=20, color='black') +\n",
        "    theme_minimal_hgrid(12) +\n",
        "    scale_x_continuous(name=\"Subsample Mean\") +\n",
        "    scale_y_continuous(name='Probability Density')"
      ],
      "execution_count": 34,
      "outputs": [
        {
          "output_type": "display_data",
          "data": {
            "image/png": "[encoded data removed]",
            "text/plain": [
              "plot without title"
            ]
          },
          "metadata": {
            "tags": []
          }
        }
      ]
    },
    {
      "cell_type": "markdown",
      "metadata": {
        "id": "8Dk9fmGetVk-",
        "colab_type": "text"
      },
      "source": [
        "Still wonky though... **How might you fix this to make it look more like a normal distribution?** Do so below:"
      ]
    },
    {
      "cell_type": "code",
      "metadata": {
        "id": "Wd8Uyeeot_QL",
        "colab_type": "code",
        "colab": {}
      },
      "source": [
        ""
      ],
      "execution_count": 0,
      "outputs": []
    },
    {
      "cell_type": "markdown",
      "metadata": {
        "id": "O8i9SzTZuHHu",
        "colab_type": "text"
      },
      "source": [
        "With your new and improved `subsampled_means`, we can work out the 95% confidence intervals by using the `quantile` function. This function takes a vector of values and a vector of the quantiles you wish to calculate. For 95% confidence, we are interested in all the values that sit between a quantile of 2.5% and 97.5%."
      ]
    },
    {
      "cell_type": "code",
      "metadata": {
        "id": "NOLQOkTRuhHY",
        "colab_type": "code",
        "colab": {
          "base_uri": "https://localhost:8080/",
          "height": 68
        },
        "outputId": "241ec690-6341-4846-bdbf-fa3804ae8916"
      },
      "source": [
        "ci95 = quantile(subsampled_means, c(0.025, 0.975))\n",
        "print(ci95)\n",
        "sprintf('We can be 95%% confident that the mean of our population can be found between the values %1.2f and %1.2f', ci95[1], ci95[2])"
      ],
      "execution_count": 48,
      "outputs": [
        {
          "output_type": "stream",
          "text": [
            "    2.5%    97.5% \n",
            "3.910804 7.013538 \n"
          ],
          "name": "stdout"
        },
        {
          "output_type": "display_data",
          "data": {
            "text/plain": [
              "[1] \"We can be 95% confident that the mean of our population can be found between the values 3.91 and 7.01\""
            ],
            "text/latex": "'We can be 95\\% confident that the mean of our population can be found between the values 3.91 and 7.01'",
            "text/markdown": "'We can be 95% confident that the mean of our population can be found between the values 3.91 and 7.01'",
            "text/html": [
              "'We can be 95% confident that the mean of our population can be found between the values 3.91 and 7.01'"
            ]
          },
          "metadata": {
            "tags": []
          }
        }
      ]
    },
    {
      "cell_type": "markdown",
      "metadata": {
        "id": "RaN4OmzIwg5w",
        "colab_type": "text"
      },
      "source": [
        "**How might we improve that confidence (i.e. make it a narrower distribution)?**. Try your answer below:"
      ]
    },
    {
      "cell_type": "code",
      "metadata": {
        "id": "_iY-apLbwtR9",
        "colab_type": "code",
        "colab": {}
      },
      "source": [
        ""
      ],
      "execution_count": 0,
      "outputs": []
    }
  ]
}